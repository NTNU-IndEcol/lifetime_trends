{
 "cells": [
  {
   "cell_type": "markdown",
   "metadata": {},
   "source": [
    "# Notebook 1 - preprocessing"
   ]
  },
  {
   "cell_type": "markdown",
   "metadata": {},
   "source": [
    "## Intro"
   ]
  },
  {
   "cell_type": "markdown",
   "metadata": {},
   "source": [
    "This Jupyter notebook presents part of the model behind the publication: \n",
    "> Krych, K. & Pettersen, JB. (2024). Long-term lifetime trends of large appliances since the introduction in Norwegian households. Journal of Industrial Ecology. \n",
    "\n",
    "Here, we preprocess the data, e.g., derive complete time series based on data points through interpolation and regression."
   ]
  },
  {
   "cell_type": "markdown",
   "metadata": {},
   "source": [
    "## Imports and parameter definition"
   ]
  },
  {
   "cell_type": "code",
   "execution_count": 42,
   "metadata": {},
   "outputs": [],
   "source": [
    "import os\n",
    "import numpy as np\n",
    "import pandas as pd\n",
    "from scipy.interpolate import interp1d\n",
    "import scipy.stats\n",
    "from scipy.optimize import curve_fit"
   ]
  },
  {
   "cell_type": "code",
   "execution_count": 2,
   "metadata": {},
   "outputs": [],
   "source": [
    "durables = ['fridge & fridge freezer' ,'freezer','washing machine', 'tumble dryer', 'dishwasher', 'oven']\n",
    "TimeStart = 1940\n",
    "TimeEnd = 2022\n",
    "MyYears = list(range(TimeStart,TimeEnd+1))\n",
    "excel = os.path.abspath(os.path.join(os.getcwd(), 'data.xlsx'))"
   ]
  },
  {
   "cell_type": "code",
   "execution_count": 19,
   "metadata": {},
   "outputs": [],
   "source": [
    "def df_to_excel_overlay(excel, df, sheet_name):\n",
    "    writer = pd.ExcelWriter(excel, mode='a', if_sheet_exists=\"overlay\", engine='openpyxl') \n",
    "    df.to_excel(writer, sheet_name=sheet_name, index=False,startrow=1, header=False)\n",
    "    writer.close()"
   ]
  },
  {
   "cell_type": "markdown",
   "metadata": {},
   "source": [
    "## Inflows of appliances (I) - interpolation"
   ]
  },
  {
   "cell_type": "code",
   "execution_count": 3,
   "metadata": {},
   "outputs": [],
   "source": [
    "df_i_data = pd.read_excel(excel, sheet_name='I_data')"
   ]
  },
  {
   "cell_type": "code",
   "execution_count": 4,
   "metadata": {},
   "outputs": [],
   "source": [
    "def perform_inflows_interpolation(df_d, durable, MyYears):\n",
    "    min_year = min(df_d['time']) # the first year with data\n",
    "    max_year = max(df_d['time']) # the last year with data\n",
    "    if min_year > MyYears[0]:\n",
    "        df_d = pd.concat([df_d, pd.DataFrame({\"time\": [MyYears[0]], \"durable\": [durable], \"value\": [0]})], ignore_index=True)\n",
    "        df_d = pd.concat([df_d, pd.DataFrame({\"time\": [min_year-1], \"durable\": [durable], \"value\": [0]})], ignore_index=True)\n",
    "    if max_year < MyYears[-1]:\n",
    "        last_value = df_d[df_d['time']==max_year]['value'].item()\n",
    "        df_d = pd.concat([df_d, pd.DataFrame({\"time\": [MyYears[-1]], \"durable\": [durable], \"value\": [last_value]})], ignore_index=True)\n",
    "    df_d = df_d.groupby('time').mean().reset_index()\n",
    "    x_data = df_d['time']\n",
    "    y_data = df_d['value']\n",
    "    f_linear = interp1d(x_data, y_data)\n",
    "    return f_linear(MyYears)"
   ]
  },
  {
   "cell_type": "code",
   "execution_count": 5,
   "metadata": {},
   "outputs": [
    {
     "data": {
      "text/html": [
       "<div>\n",
       "<style scoped>\n",
       "    .dataframe tbody tr th:only-of-type {\n",
       "        vertical-align: middle;\n",
       "    }\n",
       "\n",
       "    .dataframe tbody tr th {\n",
       "        vertical-align: top;\n",
       "    }\n",
       "\n",
       "    .dataframe thead th {\n",
       "        text-align: right;\n",
       "    }\n",
       "</style>\n",
       "<table border=\"1\" class=\"dataframe\">\n",
       "  <thead>\n",
       "    <tr style=\"text-align: right;\">\n",
       "      <th></th>\n",
       "      <th>durable</th>\n",
       "      <th>time</th>\n",
       "      <th>value</th>\n",
       "    </tr>\n",
       "  </thead>\n",
       "  <tbody>\n",
       "    <tr>\n",
       "      <th>0</th>\n",
       "      <td>fridge &amp; fridge freezer</td>\n",
       "      <td>1940</td>\n",
       "      <td>0.0</td>\n",
       "    </tr>\n",
       "    <tr>\n",
       "      <th>1</th>\n",
       "      <td>fridge &amp; fridge freezer</td>\n",
       "      <td>1941</td>\n",
       "      <td>0.0</td>\n",
       "    </tr>\n",
       "    <tr>\n",
       "      <th>2</th>\n",
       "      <td>fridge &amp; fridge freezer</td>\n",
       "      <td>1942</td>\n",
       "      <td>0.0</td>\n",
       "    </tr>\n",
       "    <tr>\n",
       "      <th>3</th>\n",
       "      <td>fridge &amp; fridge freezer</td>\n",
       "      <td>1943</td>\n",
       "      <td>0.0</td>\n",
       "    </tr>\n",
       "    <tr>\n",
       "      <th>4</th>\n",
       "      <td>fridge &amp; fridge freezer</td>\n",
       "      <td>1944</td>\n",
       "      <td>0.0</td>\n",
       "    </tr>\n",
       "    <tr>\n",
       "      <th>...</th>\n",
       "      <td>...</td>\n",
       "      <td>...</td>\n",
       "      <td>...</td>\n",
       "    </tr>\n",
       "    <tr>\n",
       "      <th>493</th>\n",
       "      <td>oven</td>\n",
       "      <td>2018</td>\n",
       "      <td>208164.5</td>\n",
       "    </tr>\n",
       "    <tr>\n",
       "      <th>494</th>\n",
       "      <td>oven</td>\n",
       "      <td>2019</td>\n",
       "      <td>207401.5</td>\n",
       "    </tr>\n",
       "    <tr>\n",
       "      <th>495</th>\n",
       "      <td>oven</td>\n",
       "      <td>2020</td>\n",
       "      <td>214029.5</td>\n",
       "    </tr>\n",
       "    <tr>\n",
       "      <th>496</th>\n",
       "      <td>oven</td>\n",
       "      <td>2021</td>\n",
       "      <td>215359.0</td>\n",
       "    </tr>\n",
       "    <tr>\n",
       "      <th>497</th>\n",
       "      <td>oven</td>\n",
       "      <td>2022</td>\n",
       "      <td>194029.5</td>\n",
       "    </tr>\n",
       "  </tbody>\n",
       "</table>\n",
       "<p>498 rows × 3 columns</p>\n",
       "</div>"
      ],
      "text/plain": [
       "                     durable  time     value\n",
       "0    fridge & fridge freezer  1940       0.0\n",
       "1    fridge & fridge freezer  1941       0.0\n",
       "2    fridge & fridge freezer  1942       0.0\n",
       "3    fridge & fridge freezer  1943       0.0\n",
       "4    fridge & fridge freezer  1944       0.0\n",
       "..                       ...   ...       ...\n",
       "493                     oven  2018  208164.5\n",
       "494                     oven  2019  207401.5\n",
       "495                     oven  2020  214029.5\n",
       "496                     oven  2021  215359.0\n",
       "497                     oven  2022  194029.5\n",
       "\n",
       "[498 rows x 3 columns]"
      ]
     },
     "execution_count": 5,
     "metadata": {},
     "output_type": "execute_result"
    }
   ],
   "source": [
    "df_i_ip = pd.DataFrame(index=pd.MultiIndex.from_product([durables, MyYears], names=['durable','time']), columns=['value'])\n",
    "for durable in durables:\n",
    "    df_d = df_i_data[df_i_data['durable'] == durable]\n",
    "    df_i_ip.loc[durable,:] = perform_inflows_interpolation(df_d, durable, MyYears)\n",
    "df_i_ip = df_i_ip.reset_index()"
   ]
  },
  {
   "cell_type": "code",
   "execution_count": null,
   "metadata": {},
   "outputs": [],
   "source": [
    "df_to_excel_overlay(excel,df_i_ip,'I')"
   ]
  },
  {
   "cell_type": "markdown",
   "metadata": {},
   "source": [
    "## People per dwelling (PpD) - regression"
   ]
  },
  {
   "cell_type": "code",
   "execution_count": 9,
   "metadata": {},
   "outputs": [],
   "source": [
    "df_ppd_data = pd.read_excel(excel, sheet_name='PpD_data')"
   ]
  },
  {
   "cell_type": "code",
   "execution_count": 10,
   "metadata": {},
   "outputs": [],
   "source": [
    "def logistic(x, ti, a, C0, C1):\n",
    "    \"\"\"\n",
    "    ti: inflection time\n",
    "    a: slope\n",
    "    C0: start value\n",
    "    C1: end value\n",
    "    x: vector of observation points (time)\n",
    "    \"\"\"\n",
    "    return (C1 - C0) / (1 + np.exp(-a * (x - ti))) + C0"
   ]
  },
  {
   "cell_type": "code",
   "execution_count": 21,
   "metadata": {},
   "outputs": [
    {
     "data": {
      "text/html": [
       "<div>\n",
       "<style scoped>\n",
       "    .dataframe tbody tr th:only-of-type {\n",
       "        vertical-align: middle;\n",
       "    }\n",
       "\n",
       "    .dataframe tbody tr th {\n",
       "        vertical-align: top;\n",
       "    }\n",
       "\n",
       "    .dataframe thead th {\n",
       "        text-align: right;\n",
       "    }\n",
       "</style>\n",
       "<table border=\"1\" class=\"dataframe\">\n",
       "  <thead>\n",
       "    <tr style=\"text-align: right;\">\n",
       "      <th></th>\n",
       "      <th>time</th>\n",
       "      <th>value</th>\n",
       "    </tr>\n",
       "  </thead>\n",
       "  <tbody>\n",
       "    <tr>\n",
       "      <th>0</th>\n",
       "      <td>1940</td>\n",
       "      <td>3.826035</td>\n",
       "    </tr>\n",
       "    <tr>\n",
       "      <th>1</th>\n",
       "      <td>1941</td>\n",
       "      <td>3.791589</td>\n",
       "    </tr>\n",
       "    <tr>\n",
       "      <th>2</th>\n",
       "      <td>1942</td>\n",
       "      <td>3.757082</td>\n",
       "    </tr>\n",
       "    <tr>\n",
       "      <th>3</th>\n",
       "      <td>1943</td>\n",
       "      <td>3.722542</td>\n",
       "    </tr>\n",
       "    <tr>\n",
       "      <th>4</th>\n",
       "      <td>1944</td>\n",
       "      <td>3.687997</td>\n",
       "    </tr>\n",
       "    <tr>\n",
       "      <th>...</th>\n",
       "      <td>...</td>\n",
       "      <td>...</td>\n",
       "    </tr>\n",
       "    <tr>\n",
       "      <th>78</th>\n",
       "      <td>2018</td>\n",
       "      <td>2.172932</td>\n",
       "    </tr>\n",
       "    <tr>\n",
       "      <th>79</th>\n",
       "      <td>2019</td>\n",
       "      <td>2.167046</td>\n",
       "    </tr>\n",
       "    <tr>\n",
       "      <th>80</th>\n",
       "      <td>2020</td>\n",
       "      <td>2.161374</td>\n",
       "    </tr>\n",
       "    <tr>\n",
       "      <th>81</th>\n",
       "      <td>2021</td>\n",
       "      <td>2.155910</td>\n",
       "    </tr>\n",
       "    <tr>\n",
       "      <th>82</th>\n",
       "      <td>2022</td>\n",
       "      <td>2.150647</td>\n",
       "    </tr>\n",
       "  </tbody>\n",
       "</table>\n",
       "<p>83 rows × 2 columns</p>\n",
       "</div>"
      ],
      "text/plain": [
       "    time     value\n",
       "0   1940  3.826035\n",
       "1   1941  3.791589\n",
       "2   1942  3.757082\n",
       "3   1943  3.722542\n",
       "4   1944  3.687997\n",
       "..   ...       ...\n",
       "78  2018  2.172932\n",
       "79  2019  2.167046\n",
       "80  2020  2.161374\n",
       "81  2021  2.155910\n",
       "82  2022  2.150647\n",
       "\n",
       "[83 rows x 2 columns]"
      ]
     },
     "execution_count": 21,
     "metadata": {},
     "output_type": "execute_result"
    }
   ],
   "source": [
    "lower_bounds = [1900, 0, 5, 0]\n",
    "higher_bounds = [2100, 1, 10, 10]\n",
    "popt, pcov = curve_fit(logistic, df_ppd_data['time'], df_ppd_data['value'], bounds=[lower_bounds, higher_bounds])\n",
    "df_ppd_rg = pd.DataFrame(data=logistic(MyYears,*popt), index=pd.MultiIndex.from_product([MyYears], names=['time']), columns=['value'])\n",
    "df_ppd_rg = df_ppd_rg.reset_index()\n",
    "df_ppd_rg"
   ]
  },
  {
   "cell_type": "code",
   "execution_count": 22,
   "metadata": {},
   "outputs": [],
   "source": [
    "df_to_excel_overlay(excel,df_ppd_rg,'PpD')"
   ]
  },
  {
   "cell_type": "markdown",
   "metadata": {},
   "source": [
    "## Inflows of cabins (I-cab) - interpolation"
   ]
  },
  {
   "cell_type": "code",
   "execution_count": 26,
   "metadata": {},
   "outputs": [
    {
     "data": {
      "text/html": [
       "<div>\n",
       "<style scoped>\n",
       "    .dataframe tbody tr th:only-of-type {\n",
       "        vertical-align: middle;\n",
       "    }\n",
       "\n",
       "    .dataframe tbody tr th {\n",
       "        vertical-align: top;\n",
       "    }\n",
       "\n",
       "    .dataframe thead th {\n",
       "        text-align: right;\n",
       "    }\n",
       "</style>\n",
       "<table border=\"1\" class=\"dataframe\">\n",
       "  <thead>\n",
       "    <tr style=\"text-align: right;\">\n",
       "      <th></th>\n",
       "      <th>time</th>\n",
       "      <th>value</th>\n",
       "    </tr>\n",
       "  </thead>\n",
       "  <tbody>\n",
       "    <tr>\n",
       "      <th>0</th>\n",
       "      <td>1900</td>\n",
       "      <td>0.000000</td>\n",
       "    </tr>\n",
       "    <tr>\n",
       "      <th>1</th>\n",
       "      <td>1901</td>\n",
       "      <td>833.333333</td>\n",
       "    </tr>\n",
       "    <tr>\n",
       "      <th>2</th>\n",
       "      <td>1902</td>\n",
       "      <td>1666.666667</td>\n",
       "    </tr>\n",
       "    <tr>\n",
       "      <th>3</th>\n",
       "      <td>1903</td>\n",
       "      <td>2500.000000</td>\n",
       "    </tr>\n",
       "    <tr>\n",
       "      <th>4</th>\n",
       "      <td>1904</td>\n",
       "      <td>3333.333333</td>\n",
       "    </tr>\n",
       "    <tr>\n",
       "      <th>...</th>\n",
       "      <td>...</td>\n",
       "      <td>...</td>\n",
       "    </tr>\n",
       "    <tr>\n",
       "      <th>118</th>\n",
       "      <td>2018</td>\n",
       "      <td>431028.000000</td>\n",
       "    </tr>\n",
       "    <tr>\n",
       "      <th>119</th>\n",
       "      <td>2019</td>\n",
       "      <td>434809.000000</td>\n",
       "    </tr>\n",
       "    <tr>\n",
       "      <th>120</th>\n",
       "      <td>2020</td>\n",
       "      <td>437833.000000</td>\n",
       "    </tr>\n",
       "    <tr>\n",
       "      <th>121</th>\n",
       "      <td>2021</td>\n",
       "      <td>440443.000000</td>\n",
       "    </tr>\n",
       "    <tr>\n",
       "      <th>122</th>\n",
       "      <td>2022</td>\n",
       "      <td>441596.432405</td>\n",
       "    </tr>\n",
       "  </tbody>\n",
       "</table>\n",
       "<p>123 rows × 2 columns</p>\n",
       "</div>"
      ],
      "text/plain": [
       "     time          value\n",
       "0    1900       0.000000\n",
       "1    1901     833.333333\n",
       "2    1902    1666.666667\n",
       "3    1903    2500.000000\n",
       "4    1904    3333.333333\n",
       "..    ...            ...\n",
       "118  2018  431028.000000\n",
       "119  2019  434809.000000\n",
       "120  2020  437833.000000\n",
       "121  2021  440443.000000\n",
       "122  2022  441596.432405\n",
       "\n",
       "[123 rows x 2 columns]"
      ]
     },
     "execution_count": 26,
     "metadata": {},
     "output_type": "execute_result"
    }
   ],
   "source": [
    "df_i_cab_data = pd.read_excel(excel, sheet_name='I-cab_data', usecols=\"A:D\")\n",
    "f_cabins = interp1d(list(df_i_cab_data['time']), list(df_i_cab_data['value']))\n",
    "MyYears_extended = list(range(1900,TimeEnd+1))\n",
    "df_i_cab_ip = pd.DataFrame(data=f_cabins(MyYears_extended), index=pd.MultiIndex.from_product([MyYears_extended], names=['time']), columns=['value'])\n",
    "df_i_cab_ip = df_i_cab_ip.reset_index()\n",
    "df_i_cab_ip"
   ]
  },
  {
   "cell_type": "code",
   "execution_count": 28,
   "metadata": {},
   "outputs": [],
   "source": [
    "df_to_excel_overlay(excel,df_i_cab_ip,'I-cab')"
   ]
  },
  {
   "cell_type": "markdown",
   "metadata": {},
   "source": [
    "## Share of cabins electrified (SoCE) - regression"
   ]
  },
  {
   "cell_type": "code",
   "execution_count": 37,
   "metadata": {},
   "outputs": [
    {
     "data": {
      "text/html": [
       "<div>\n",
       "<style scoped>\n",
       "    .dataframe tbody tr th:only-of-type {\n",
       "        vertical-align: middle;\n",
       "    }\n",
       "\n",
       "    .dataframe tbody tr th {\n",
       "        vertical-align: top;\n",
       "    }\n",
       "\n",
       "    .dataframe thead th {\n",
       "        text-align: right;\n",
       "    }\n",
       "</style>\n",
       "<table border=\"1\" class=\"dataframe\">\n",
       "  <thead>\n",
       "    <tr style=\"text-align: right;\">\n",
       "      <th></th>\n",
       "      <th>time</th>\n",
       "      <th>value</th>\n",
       "    </tr>\n",
       "  </thead>\n",
       "  <tbody>\n",
       "    <tr>\n",
       "      <th>0</th>\n",
       "      <td>1940</td>\n",
       "      <td>0.0</td>\n",
       "    </tr>\n",
       "    <tr>\n",
       "      <th>1</th>\n",
       "      <td>1941</td>\n",
       "      <td>0.0</td>\n",
       "    </tr>\n",
       "    <tr>\n",
       "      <th>2</th>\n",
       "      <td>1942</td>\n",
       "      <td>0.0</td>\n",
       "    </tr>\n",
       "    <tr>\n",
       "      <th>3</th>\n",
       "      <td>1943</td>\n",
       "      <td>0.0</td>\n",
       "    </tr>\n",
       "    <tr>\n",
       "      <th>4</th>\n",
       "      <td>1944</td>\n",
       "      <td>0.0</td>\n",
       "    </tr>\n",
       "    <tr>\n",
       "      <th>...</th>\n",
       "      <td>...</td>\n",
       "      <td>...</td>\n",
       "    </tr>\n",
       "    <tr>\n",
       "      <th>78</th>\n",
       "      <td>2018</td>\n",
       "      <td>1.0</td>\n",
       "    </tr>\n",
       "    <tr>\n",
       "      <th>79</th>\n",
       "      <td>2019</td>\n",
       "      <td>1.0</td>\n",
       "    </tr>\n",
       "    <tr>\n",
       "      <th>80</th>\n",
       "      <td>2020</td>\n",
       "      <td>1.0</td>\n",
       "    </tr>\n",
       "    <tr>\n",
       "      <th>81</th>\n",
       "      <td>2021</td>\n",
       "      <td>1.0</td>\n",
       "    </tr>\n",
       "    <tr>\n",
       "      <th>82</th>\n",
       "      <td>2022</td>\n",
       "      <td>1.0</td>\n",
       "    </tr>\n",
       "  </tbody>\n",
       "</table>\n",
       "<p>83 rows × 2 columns</p>\n",
       "</div>"
      ],
      "text/plain": [
       "    time  value\n",
       "0   1940    0.0\n",
       "1   1941    0.0\n",
       "2   1942    0.0\n",
       "3   1943    0.0\n",
       "4   1944    0.0\n",
       "..   ...    ...\n",
       "78  2018    1.0\n",
       "79  2019    1.0\n",
       "80  2020    1.0\n",
       "81  2021    1.0\n",
       "82  2022    1.0\n",
       "\n",
       "[83 rows x 2 columns]"
      ]
     },
     "execution_count": 37,
     "metadata": {},
     "output_type": "execute_result"
    }
   ],
   "source": [
    "df_soce = pd.read_excel(excel, sheet_name='SoCE_data', usecols=\"A:D\")\n",
    "def linear(x, a, b):\n",
    "    return a * x + b\n",
    "x_data, y_data = df_soce['time'], df_soce['value']\n",
    "with np.errstate(divide='ignore'): # to ignore \"RuntimeWarning: divide by zero encountered in...\"\n",
    "    y_data_log = np.log(y_data*100)\n",
    "y_data_log[y_data_log == -np.inf] = 0\n",
    "popt, pcov = curve_fit(linear, x_data, y_data_log)\n",
    "soce = np.exp(popt[0]*np.array(MyYears)+popt[1])/100\n",
    "soce[soce >1] = 1\n",
    "soce[:1960-TimeStart] = 0 \n",
    "soce[soce <0] = 0\n",
    "df_soce_rg = pd.DataFrame(data=soce, index=pd.MultiIndex.from_product([MyYears], names=['time']), columns=['value'])\n",
    "df_soce_rg = df_soce_rg.reset_index()\n",
    "df_soce_rg"
   ]
  },
  {
   "cell_type": "code",
   "execution_count": 38,
   "metadata": {},
   "outputs": [],
   "source": [
    "df_to_excel_overlay(excel,df_soce_rg,'SoCE')"
   ]
  },
  {
   "cell_type": "markdown",
   "metadata": {},
   "source": [
    "## The number of dwellings"
   ]
  },
  {
   "cell_type": "markdown",
   "metadata": {},
   "source": [
    "The number of dwellings is calculated using various model parameters. During the uncertainty analysis, the values of these parameters might vary, which is why in the preliminary analysis, the number of dwellings is calculated for each model run. However, in the simplified analysis, where many of the parameters are considered fixed, the number of dwellings is also a fixed parameter. Pre-calculating the number of dwellings improves the computational time in the final analysis."
   ]
  },
  {
   "cell_type": "code",
   "execution_count": 43,
   "metadata": {},
   "outputs": [],
   "source": [
    "df_ppd = pd.read_excel(excel, sheet_name='PpD')\n",
    "df_p = pd.read_excel(excel, sheet_name='P')\n",
    "df_c = pd.read_excel(excel, sheet_name='I-cab')\n",
    "df_soce = pd.read_excel(excel, sheet_name='SoCE')\n",
    "df_k_cab = pd.read_excel(excel, sheet_name='k-cab')\n",
    "df_l_cab = pd.read_excel(excel, sheet_name='lambda-cab')"
   ]
  },
  {
   "cell_type": "code",
   "execution_count": 44,
   "metadata": {},
   "outputs": [
    {
     "name": "stderr",
     "output_type": "stream",
     "text": [
      "C:\\Users\\kamilami\\AppData\\Local\\Temp/ipykernel_9444/1887577306.py:25: SettingWithCopyWarning: \n",
      "A value is trying to be set on a copy of a slice from a DataFrame\n",
      "\n",
      "See the caveats in the documentation: https://pandas.pydata.org/pandas-docs/stable/user_guide/indexing.html#returning-a-view-versus-a-copy\n",
      "  soce[soce >1] = 1\n",
      "C:\\Users\\kamilami\\AppData\\Local\\Temp/ipykernel_9444/1887577306.py:26: SettingWithCopyWarning: \n",
      "A value is trying to be set on a copy of a slice from a DataFrame\n",
      "\n",
      "See the caveats in the documentation: https://pandas.pydata.org/pandas-docs/stable/user_guide/indexing.html#returning-a-view-versus-a-copy\n",
      "  soce[:1960-TimeStart] = 0\n",
      "C:\\Users\\kamilami\\AppData\\Local\\Temp/ipykernel_9444/1887577306.py:27: SettingWithCopyWarning: \n",
      "A value is trying to be set on a copy of a slice from a DataFrame\n",
      "\n",
      "See the caveats in the documentation: https://pandas.pydata.org/pandas-docs/stable/user_guide/indexing.html#returning-a-view-versus-a-copy\n",
      "  soce[soce <0] = 0\n"
     ]
    }
   ],
   "source": [
    "dwellings = np.array(df_p['value']/df_ppd['value'])\n",
    "\n",
    "t = df_c['time']\n",
    "s = df_c['value']\n",
    "scale = df_l_cab['value'].values[0]\n",
    "shape = df_k_cab['value'].values[0]\n",
    "sf = np.zeros((len(t), len(t)))\n",
    "for m in range(0, len(t)):  # cohort index\n",
    "    sf[m::,m] = scipy.stats.weibull_min.sf(np.arange(0,len(t)-m), c=shape, loc = 0, scale=scale)\n",
    "\n",
    "# MFA calculations start (assuming sf[0] != 0 and no negative inflows)\n",
    "i = np.zeros(len(t))\n",
    "s_c = np.zeros((len(t), len(t)))\n",
    "i[0] = s[0] / sf[0, 0]\n",
    "s_c[:, 0] = i[0] * sf[:, 0]\n",
    "for m in range(1, len(t)):\n",
    "    i[m] = (s[m] - s_c[m, :].sum()) / sf[m,m]\n",
    "    s_c[m::, m] = i[m] * sf[m::, m]\n",
    "\n",
    "o_c = np.zeros_like(s_c)\n",
    "o_c[1::,:] = -1 * np.diff(s_c,n=1,axis=0)\n",
    "o_c[np.diag_indices(len(t))] = i - np.diag(s_c) # allow for outflow in year 0 already\n",
    "\n",
    "soce = df_soce['value'] # share of cabins electrified\n",
    "soce[soce >1] = 1\n",
    "soce[:1960-TimeStart] = 0 \n",
    "soce[soce <0] = 0\n",
    "el_cabins = np.einsum('tc,c->t',s_c[40:,40:],soce)\n",
    "all_dwellings = dwellings+el_cabins"
   ]
  },
  {
   "cell_type": "code",
   "execution_count": 50,
   "metadata": {},
   "outputs": [],
   "source": [
    "df_d = pd.DataFrame(data=all_dwellings, index=pd.MultiIndex.from_product([MyYears], names=['time']), columns=['value'])\n",
    "df_d = df_d.reset_index()\n",
    "df_d['unit'] = 'dwellings'\n",
    "df_d['source'] = 'calculated using a dwelling sub-model'\n",
    "df_to_excel_overlay(excel,df_d,'D')"
   ]
  }
 ],
 "metadata": {
  "kernelspec": {
   "display_name": "odym",
   "language": "python",
   "name": "python3"
  },
  "language_info": {
   "codemirror_mode": {
    "name": "ipython",
    "version": 3
   },
   "file_extension": ".py",
   "mimetype": "text/x-python",
   "name": "python",
   "nbconvert_exporter": "python",
   "pygments_lexer": "ipython3",
   "version": "3.10.6"
  },
  "orig_nbformat": 4,
  "vscode": {
   "interpreter": {
    "hash": "88a8cd6dab7e39e26651f15ad9527b438eba8983743c187474a3cdf275f3d522"
   }
  }
 },
 "nbformat": 4,
 "nbformat_minor": 2
}
