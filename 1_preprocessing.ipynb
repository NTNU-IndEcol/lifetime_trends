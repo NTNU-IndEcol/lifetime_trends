{
 "cells": [
  {
   "cell_type": "markdown",
   "metadata": {},
   "source": [
    "# Notebook 1 - preprocessing"
   ]
  },
  {
   "cell_type": "markdown",
   "metadata": {},
   "source": [
    "## Intro"
   ]
  },
  {
   "cell_type": "markdown",
   "metadata": {},
   "source": [
    "This Jupyter notebook contains parts of modeling behind the publication: \n",
    "> Krych, K. & Pettersen, JB. (2024). Long-term lifetime trends of large appliances since the introduction in Norwegian households. Journal of Industrial Ecology. \n",
    "\n",
    "Here, we preprocess the data, e.g., derive complete time series based on data points through interpolation and regression. It is not necessary to run this notebook, unless the raw data has been changed, or processed data has been deleted. "
   ]
  },
  {
   "cell_type": "markdown",
   "metadata": {},
   "source": [
    "## Imports and parameter definition"
   ]
  },
  {
   "cell_type": "code",
   "execution_count": null,
   "metadata": {},
   "outputs": [],
   "source": [
    "import os\n",
    "import numpy as np\n",
    "import pandas as pd\n",
    "from scipy.interpolate import interp1d\n",
    "import scipy.stats\n",
    "from scipy.optimize import curve_fit"
   ]
  },
  {
   "cell_type": "code",
   "execution_count": null,
   "metadata": {},
   "outputs": [],
   "source": [
    "durables = ['fridge & fridge freezer' ,'freezer','washing machine', 'tumble dryer', 'dishwasher', 'oven']\n",
    "TimeStart = 1940\n",
    "TimeEnd = 2022\n",
    "MyYears = list(range(TimeStart,TimeEnd+1))\n",
    "excel = os.path.abspath(os.path.join(os.getcwd(), 'data.xlsx'))\n",
    "overwrite = True"
   ]
  },
  {
   "cell_type": "code",
   "execution_count": null,
   "metadata": {},
   "outputs": [],
   "source": [
    "def df_to_excel_overlay(excel, df, sheet_name):\n",
    "    writer = pd.ExcelWriter(excel, mode='a', if_sheet_exists=\"overlay\", engine='openpyxl') \n",
    "    df.to_excel(writer, sheet_name=sheet_name, index=False,startrow=1, header=False)\n",
    "    writer.close()"
   ]
  },
  {
   "cell_type": "markdown",
   "metadata": {},
   "source": [
    "## Inflows of appliances (I) - interpolation"
   ]
  },
  {
   "cell_type": "code",
   "execution_count": null,
   "metadata": {},
   "outputs": [],
   "source": [
    "df_i_data = pd.read_excel(excel, sheet_name='I_data')"
   ]
  },
  {
   "cell_type": "code",
   "execution_count": null,
   "metadata": {},
   "outputs": [],
   "source": [
    "def perform_inflows_interpolation(df_d, durable, MyYears):\n",
    "    min_year = min(df_d['time']) # the first year with data\n",
    "    max_year = max(df_d['time']) # the last year with data\n",
    "    if min_year > MyYears[0]:\n",
    "        df_d = pd.concat([df_d, pd.DataFrame({\"time\": [MyYears[0]], \"durable\": [durable], \"value\": [0]})], ignore_index=True)\n",
    "        df_d = pd.concat([df_d, pd.DataFrame({\"time\": [min_year-1], \"durable\": [durable], \"value\": [0]})], ignore_index=True)\n",
    "    if max_year < MyYears[-1]:\n",
    "        last_value = df_d[df_d['time']==max_year]['value'].item()\n",
    "        df_d = pd.concat([df_d, pd.DataFrame({\"time\": [MyYears[-1]], \"durable\": [durable], \"value\": [last_value]})], ignore_index=True)\n",
    "    df_d = df_d.groupby('time').mean(numeric_only=True).reset_index()\n",
    "    x_data = df_d['time']\n",
    "    y_data = df_d['value']\n",
    "    f_linear = interp1d(x_data, y_data)\n",
    "    return f_linear(MyYears)"
   ]
  },
  {
   "cell_type": "code",
   "execution_count": null,
   "metadata": {},
   "outputs": [],
   "source": [
    "df_i_ip = pd.DataFrame(index=pd.MultiIndex.from_product([durables, MyYears], names=['durable','time']), columns=['value'])\n",
    "for durable in durables:\n",
    "    df_d = df_i_data[df_i_data['durable'] == durable]\n",
    "    df_i_ip.loc[durable,:] = perform_inflows_interpolation(df_d, durable, MyYears)\n",
    "df_i_ip = df_i_ip.reset_index()"
   ]
  },
  {
   "cell_type": "code",
   "execution_count": null,
   "metadata": {},
   "outputs": [],
   "source": [
    "if overwrite:\n",
    "    df_to_excel_overlay(excel,df_i_ip,'I')"
   ]
  },
  {
   "cell_type": "markdown",
   "metadata": {},
   "source": [
    "## People per dwelling (PpD) - regression"
   ]
  },
  {
   "cell_type": "code",
   "execution_count": null,
   "metadata": {},
   "outputs": [],
   "source": [
    "df_ppd_data = pd.read_excel(excel, sheet_name='PpD_data')"
   ]
  },
  {
   "cell_type": "code",
   "execution_count": null,
   "metadata": {},
   "outputs": [],
   "source": [
    "def logistic(x, ti, a, C0, C1):\n",
    "    \"\"\"\n",
    "    ti: inflection time\n",
    "    a: slope\n",
    "    C0: start value\n",
    "    C1: end value\n",
    "    x: vector of observation points (time)\n",
    "    \"\"\"\n",
    "    return (C1 - C0) / (1 + np.exp(-a * (x - ti))) + C0"
   ]
  },
  {
   "cell_type": "code",
   "execution_count": null,
   "metadata": {},
   "outputs": [],
   "source": [
    "lower_bounds = [1900, 0, 5, 0]\n",
    "higher_bounds = [2100, 1, 10, 10]\n",
    "popt, pcov = curve_fit(logistic, df_ppd_data['time'], df_ppd_data['value'], bounds=[lower_bounds, higher_bounds])\n",
    "df_ppd_rg = pd.DataFrame(data=logistic(MyYears,*popt), index=pd.MultiIndex.from_product([MyYears], names=['time']), columns=['value'])\n",
    "df_ppd_rg = df_ppd_rg.reset_index()\n",
    "df_ppd_rg"
   ]
  },
  {
   "cell_type": "code",
   "execution_count": null,
   "metadata": {},
   "outputs": [],
   "source": [
    "if overwrite:\n",
    "    df_to_excel_overlay(excel,df_ppd_rg,'PpD')"
   ]
  },
  {
   "cell_type": "markdown",
   "metadata": {},
   "source": [
    "## Inflows of cabins (C) - interpolation"
   ]
  },
  {
   "cell_type": "code",
   "execution_count": null,
   "metadata": {},
   "outputs": [],
   "source": [
    "df_c_data = pd.read_excel(excel, sheet_name='C_data', usecols=\"A:D\")\n",
    "f_cabins = interp1d(list(df_c_data['time']), list(df_c_data['value']))\n",
    "MyYears_extended = list(range(1900,TimeEnd+1))\n",
    "df_c_ip = pd.DataFrame(data=f_cabins(MyYears_extended), index=pd.MultiIndex.from_product([MyYears_extended], names=['time']), columns=['value'])\n",
    "df_c_ip = df_c_ip.reset_index()\n",
    "df_c_ip"
   ]
  },
  {
   "cell_type": "code",
   "execution_count": null,
   "metadata": {},
   "outputs": [],
   "source": [
    "if overwrite:\n",
    "    df_to_excel_overlay(excel,df_c_ip,'C')"
   ]
  },
  {
   "cell_type": "markdown",
   "metadata": {},
   "source": [
    "## Share of cabins electrified (SoCE) - regression"
   ]
  },
  {
   "cell_type": "code",
   "execution_count": null,
   "metadata": {},
   "outputs": [],
   "source": [
    "df_soce = pd.read_excel(excel, sheet_name='SoCE_data', usecols=\"A:D\")\n",
    "def linear(x, a, b):\n",
    "    return a * x + b\n",
    "x_data, y_data = df_soce['time'], df_soce['value']\n",
    "with np.errstate(divide='ignore'): # to ignore \"RuntimeWarning: divide by zero encountered in...\"\n",
    "    y_data_log = np.log(y_data*100)\n",
    "y_data_log[y_data_log == -np.inf] = 0\n",
    "popt, pcov = curve_fit(linear, x_data, y_data_log)\n",
    "soce = np.exp(popt[0]*np.array(MyYears)+popt[1])/100\n",
    "soce[soce >1] = 1\n",
    "soce[:1960-TimeStart] = 0 \n",
    "soce[soce <0] = 0\n",
    "df_soce_rg = pd.DataFrame(data=soce, index=pd.MultiIndex.from_product([MyYears], names=['time']), columns=['value'])\n",
    "df_soce_rg = df_soce_rg.reset_index()\n",
    "df_soce_rg"
   ]
  },
  {
   "cell_type": "code",
   "execution_count": null,
   "metadata": {},
   "outputs": [],
   "source": [
    "if overwrite:\n",
    "    df_to_excel_overlay(excel,df_soce_rg,'SoCE')"
   ]
  },
  {
   "cell_type": "markdown",
   "metadata": {},
   "source": [
    "## The number of dwellings"
   ]
  },
  {
   "cell_type": "markdown",
   "metadata": {},
   "source": [
    "The number of dwellings is calculated using various model parameters. During the uncertainty analysis, the values of these parameters might vary, which is why in the preliminary analysis, the number of dwellings is calculated for each model run. However, in the simplified analysis, where many of the parameters are considered fixed, the number of dwellings is also a fixed parameter. Pre-calculating the number of dwellings improves the computational time in the final analysis."
   ]
  },
  {
   "cell_type": "code",
   "execution_count": null,
   "metadata": {},
   "outputs": [],
   "source": [
    "df_ppd = pd.read_excel(excel, sheet_name='PpD')\n",
    "df_p = pd.read_excel(excel, sheet_name='P')\n",
    "df_c = pd.read_excel(excel, sheet_name='C')\n",
    "df_soce = pd.read_excel(excel, sheet_name='SoCE')\n",
    "df_k_cab = pd.read_excel(excel, sheet_name='k-cab')\n",
    "df_l_cab = pd.read_excel(excel, sheet_name='lambda-cab')"
   ]
  },
  {
   "cell_type": "code",
   "execution_count": null,
   "metadata": {},
   "outputs": [],
   "source": [
    "dwellings = np.array(df_p['value']/df_ppd['value'])\n",
    "\n",
    "t = df_c['time']\n",
    "s = df_c['value']\n",
    "scale = df_l_cab['value'].values[0]\n",
    "shape = df_k_cab['value'].values[0]\n",
    "sf = np.zeros((len(t), len(t)))\n",
    "for m in range(0, len(t)):  # cohort index\n",
    "    sf[m::,m] = scipy.stats.weibull_min.sf(np.arange(0,len(t)-m), c=shape, loc = 0, scale=scale)\n",
    "\n",
    "# MFA calculations start (assuming sf[0] != 0 and no negative inflows)\n",
    "i = np.zeros(len(t))\n",
    "s_c = np.zeros((len(t), len(t)))\n",
    "i[0] = s[0] / sf[0, 0]\n",
    "s_c[:, 0] = i[0] * sf[:, 0]\n",
    "for m in range(1, len(t)):\n",
    "    i[m] = (s[m] - s_c[m, :].sum()) / sf[m,m]\n",
    "    s_c[m::, m] = i[m] * sf[m::, m]\n",
    "\n",
    "o_c = np.zeros_like(s_c)\n",
    "o_c[1::,:] = -1 * np.diff(s_c,n=1,axis=0)\n",
    "o_c[np.diag_indices(len(t))] = i - np.diag(s_c) # allow for outflow in year 0 already\n",
    "\n",
    "soce = df_soce['value'] # share of cabins electrified\n",
    "soce[soce >1] = 1\n",
    "soce[:1960-TimeStart] = 0 \n",
    "soce[soce <0] = 0\n",
    "el_cabins = np.einsum('tc,c->t',s_c[40:,40:],soce)\n",
    "all_dwellings = dwellings+el_cabins"
   ]
  },
  {
   "cell_type": "code",
   "execution_count": null,
   "metadata": {},
   "outputs": [],
   "source": [
    "df_d = pd.DataFrame(data=all_dwellings, index=pd.MultiIndex.from_product([MyYears], names=['time']), columns=['value'])\n",
    "df_d = df_d.reset_index()\n",
    "df_d['unit'] = 'dwellings'\n",
    "df_d['source'] = 'calculated using a dwelling sub-model'"
   ]
  },
  {
   "cell_type": "code",
   "execution_count": null,
   "metadata": {},
   "outputs": [],
   "source": [
    "if overwrite:\n",
    "    df_to_excel_overlay(excel,df_d,'D')"
   ]
  }
 ],
 "metadata": {
  "kernelspec": {
   "display_name": "odym",
   "language": "python",
   "name": "python3"
  },
  "language_info": {
   "codemirror_mode": {
    "name": "ipython",
    "version": 3
   },
   "file_extension": ".py",
   "mimetype": "text/x-python",
   "name": "python",
   "nbconvert_exporter": "python",
   "pygments_lexer": "ipython3",
   "version": "3.11.8"
  },
  "orig_nbformat": 4,
  "vscode": {
   "interpreter": {
    "hash": "88a8cd6dab7e39e26651f15ad9527b438eba8983743c187474a3cdf275f3d522"
   }
  }
 },
 "nbformat": 4,
 "nbformat_minor": 2
}
